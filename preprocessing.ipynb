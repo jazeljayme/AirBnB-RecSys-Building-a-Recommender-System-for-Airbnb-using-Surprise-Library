{
 "cells": [
  {
   "cell_type": "code",
   "execution_count": 2,
   "id": "d77d31b4",
   "metadata": {
    "ExecuteTime": {
     "end_time": "2022-02-08T15:40:39.605766Z",
     "start_time": "2022-02-08T15:40:38.365576Z"
    }
   },
   "outputs": [],
   "source": [
    "import glob\n",
    "import pandas as pd\n",
    "from deep_translator import GoogleTranslator"
   ]
  },
  {
   "cell_type": "markdown",
   "id": "ac7e2b53",
   "metadata": {},
   "source": [
    "# Clean listings.csv.gz"
   ]
  },
  {
   "cell_type": "code",
   "execution_count": 3,
   "id": "c03f45e7",
   "metadata": {
    "ExecuteTime": {
     "end_time": "2022-02-08T15:41:16.451625Z",
     "start_time": "2022-02-08T15:40:39.608497Z"
    }
   },
   "outputs": [
    {
     "name": "stdout",
     "output_type": "stream",
     "text": [
      "From 451334 rows to 90277 rows\n"
     ]
    }
   ],
   "source": [
    "# load all files (to be safe!)\n",
    "files = glob.glob('/mnt/data/public/insideairbnb/data.insideairbnb.com'+\\\n",
    "                  '/united-kingdom/england/london/2021*/data/listings.csv.gz')\n",
    "listings = pd.concat([pd.read_csv(f) for f in files])\n",
    "listings_orig_shape = listings.shape\n",
    "\n",
    "# create a unique identifier to identify and remove duplicates\n",
    "listings['code'] = listings['id'].apply(str) + '-' + \\\n",
    "                   listings['host_id'].apply(str)\n",
    "\n",
    "# remove duplicates and drop unique identifier and nans\n",
    "listings = listings.drop_duplicates(subset=['code'])\n",
    "listings = listings.drop(['code'], axis=1)\n",
    "listings_new_shape = listings.shape\n",
    "\n",
    "print('From', listings_orig_shape[0],\n",
    "      'rows to', listings_new_shape[0], 'rows')\n",
    "\n",
    "listings.to_csv('listings-london.csv.gz', compression='gzip')"
   ]
  },
  {
   "cell_type": "markdown",
   "id": "252cea29",
   "metadata": {},
   "source": [
    "# Clean reviews.csv.gz"
   ]
  },
  {
   "cell_type": "code",
   "execution_count": 4,
   "id": "9f1f19ef",
   "metadata": {
    "ExecuteTime": {
     "end_time": "2022-02-08T15:42:58.074669Z",
     "start_time": "2022-02-08T15:41:16.457247Z"
    }
   },
   "outputs": [
    {
     "name": "stdout",
     "output_type": "stream",
     "text": [
      "From 6778870 rows to 1306995 rows\n"
     ]
    }
   ],
   "source": [
    "# load all files (to be safe!)\n",
    "files = glob.glob('/mnt/data/public/insideairbnb/data.insideairbnb.com'+\\\n",
    "                  '/united-kingdom/england/london/2021*/data/reviews.csv.gz')\n",
    "reviews = pd.concat([pd.read_csv(f) for f in files])\n",
    "reviews_orig_shape = reviews.shape\n",
    "\n",
    "# create a unique identifier to identify and remove duplicates\n",
    "reviews['code'] = reviews['listing_id'].apply(str) + '-' + \\\n",
    "                  reviews['id'].apply(str) + '-' + \\\n",
    "                  reviews['date'].apply(str) + '-' + \\\n",
    "                  reviews['reviewer_id'].apply(str)\n",
    "\n",
    "# remove duplicates and drop unique identifier and nans\n",
    "reviews = reviews.drop_duplicates(subset=['code'])\n",
    "reviews = reviews.drop(['code'], axis=1).dropna(subset=['comments'])\n",
    "reviews_new_shape = reviews.shape\n",
    "\n",
    "print('From', reviews_orig_shape[0],\n",
    "      'rows to', reviews_new_shape[0], 'rows')\n",
    "\n",
    "reviews.to_csv('reviews-london.csv.gz', compression='gzip')"
   ]
  }
 ],
 "metadata": {
  "kernelspec": {
   "display_name": "Python 3 (ipykernel)",
   "language": "python",
   "name": "python3"
  },
  "language_info": {
   "codemirror_mode": {
    "name": "ipython",
    "version": 3
   },
   "file_extension": ".py",
   "mimetype": "text/x-python",
   "name": "python",
   "nbconvert_exporter": "python",
   "pygments_lexer": "ipython3",
   "version": "3.9.6"
  },
  "toc": {
   "base_numbering": 1,
   "nav_menu": {},
   "number_sections": true,
   "sideBar": true,
   "skip_h1_title": false,
   "title_cell": "Table of Contents",
   "title_sidebar": "Contents",
   "toc_cell": false,
   "toc_position": {},
   "toc_section_display": true,
   "toc_window_display": false
  }
 },
 "nbformat": 4,
 "nbformat_minor": 5
}
